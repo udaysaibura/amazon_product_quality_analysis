{
 "cells": [
  {
   "cell_type": "code",
   "execution_count": 1,
   "id": "20c16277-6212-456a-970c-8bd53ffa3c5e",
   "metadata": {},
   "outputs": [],
   "source": [
    "import pandas as pd\n",
    "from textblob import TextBlob\n"
   ]
  },
  {
   "cell_type": "code",
   "execution_count": 2,
   "id": "b212ecc2-5dbe-4f91-9e13-cccfdaa923d4",
   "metadata": {},
   "outputs": [],
   "source": [
    "file_path=r\"C:\\Users\\udays\\OneDrive\\Desktop\\4-1 project\\All_Beauty.jsonl\"\n",
    "df = pd.read_json(file_path, lines=True)"
   ]
  },
  {
   "cell_type": "code",
   "execution_count": 3,
   "id": "e0ff094b-65df-4590-a105-c3442e505a5f",
   "metadata": {},
   "outputs": [
    {
     "data": {
      "text/html": [
       "<div>\n",
       "<style scoped>\n",
       "    .dataframe tbody tr th:only-of-type {\n",
       "        vertical-align: middle;\n",
       "    }\n",
       "\n",
       "    .dataframe tbody tr th {\n",
       "        vertical-align: top;\n",
       "    }\n",
       "\n",
       "    .dataframe thead th {\n",
       "        text-align: right;\n",
       "    }\n",
       "</style>\n",
       "<table border=\"1\" class=\"dataframe\">\n",
       "  <thead>\n",
       "    <tr style=\"text-align: right;\">\n",
       "      <th></th>\n",
       "      <th>rating</th>\n",
       "      <th>title</th>\n",
       "      <th>text</th>\n",
       "      <th>images</th>\n",
       "      <th>asin</th>\n",
       "      <th>parent_asin</th>\n",
       "      <th>user_id</th>\n",
       "      <th>timestamp</th>\n",
       "      <th>helpful_vote</th>\n",
       "      <th>verified_purchase</th>\n",
       "    </tr>\n",
       "  </thead>\n",
       "  <tbody>\n",
       "    <tr>\n",
       "      <th>0</th>\n",
       "      <td>5</td>\n",
       "      <td>Such a lovely scent but not overpowering.</td>\n",
       "      <td>This spray is really nice. It smells really go...</td>\n",
       "      <td>[]</td>\n",
       "      <td>B00YQ6X8EO</td>\n",
       "      <td>B00YQ6X8EO</td>\n",
       "      <td>AGKHLEW2SOWHNMFQIJGBECAF7INQ</td>\n",
       "      <td>2020-05-05 14:08:48.923</td>\n",
       "      <td>0</td>\n",
       "      <td>True</td>\n",
       "    </tr>\n",
       "    <tr>\n",
       "      <th>1</th>\n",
       "      <td>4</td>\n",
       "      <td>Works great but smells a little weird.</td>\n",
       "      <td>This product does what I need it to do, I just...</td>\n",
       "      <td>[]</td>\n",
       "      <td>B081TJ8YS3</td>\n",
       "      <td>B081TJ8YS3</td>\n",
       "      <td>AGKHLEW2SOWHNMFQIJGBECAF7INQ</td>\n",
       "      <td>2020-05-04 18:10:55.070</td>\n",
       "      <td>1</td>\n",
       "      <td>True</td>\n",
       "    </tr>\n",
       "    <tr>\n",
       "      <th>2</th>\n",
       "      <td>5</td>\n",
       "      <td>Yes!</td>\n",
       "      <td>Smells good, feels great!</td>\n",
       "      <td>[]</td>\n",
       "      <td>B07PNNCSP9</td>\n",
       "      <td>B097R46CSY</td>\n",
       "      <td>AE74DYR3QUGVPZJ3P7RFWBGIX7XQ</td>\n",
       "      <td>2020-05-16 21:41:06.052</td>\n",
       "      <td>2</td>\n",
       "      <td>True</td>\n",
       "    </tr>\n",
       "    <tr>\n",
       "      <th>3</th>\n",
       "      <td>1</td>\n",
       "      <td>Synthetic feeling</td>\n",
       "      <td>Felt synthetic</td>\n",
       "      <td>[]</td>\n",
       "      <td>B09JS339BZ</td>\n",
       "      <td>B09JS339BZ</td>\n",
       "      <td>AFQLNQNQYFWQZPJQZS6V3NZU4QBQ</td>\n",
       "      <td>2022-01-28 18:13:50.220</td>\n",
       "      <td>0</td>\n",
       "      <td>True</td>\n",
       "    </tr>\n",
       "    <tr>\n",
       "      <th>4</th>\n",
       "      <td>5</td>\n",
       "      <td>A+</td>\n",
       "      <td>Love it</td>\n",
       "      <td>[]</td>\n",
       "      <td>B08BZ63GMJ</td>\n",
       "      <td>B08BZ63GMJ</td>\n",
       "      <td>AFQLNQNQYFWQZPJQZS6V3NZU4QBQ</td>\n",
       "      <td>2020-12-30 10:02:43.534</td>\n",
       "      <td>0</td>\n",
       "      <td>True</td>\n",
       "    </tr>\n",
       "    <tr>\n",
       "      <th>...</th>\n",
       "      <td>...</td>\n",
       "      <td>...</td>\n",
       "      <td>...</td>\n",
       "      <td>...</td>\n",
       "      <td>...</td>\n",
       "      <td>...</td>\n",
       "      <td>...</td>\n",
       "      <td>...</td>\n",
       "      <td>...</td>\n",
       "      <td>...</td>\n",
       "    </tr>\n",
       "    <tr>\n",
       "      <th>701523</th>\n",
       "      <td>4</td>\n",
       "      <td>Four Stars</td>\n",
       "      <td>Conditioner is great  shampoo not as I expected</td>\n",
       "      <td>[]</td>\n",
       "      <td>B006YUIWKA</td>\n",
       "      <td>B006YUIWKA</td>\n",
       "      <td>AFIXGFVEGLMOTMBTJL7H3VSIETDQ</td>\n",
       "      <td>2016-11-04 02:37:01.000</td>\n",
       "      <td>0</td>\n",
       "      <td>True</td>\n",
       "    </tr>\n",
       "    <tr>\n",
       "      <th>701524</th>\n",
       "      <td>1</td>\n",
       "      <td>Pretty</td>\n",
       "      <td>Did not work! Used the whole bottle and my hai...</td>\n",
       "      <td>[]</td>\n",
       "      <td>B006YUIWKA</td>\n",
       "      <td>B006YUIWKA</td>\n",
       "      <td>AFV7YZFOJF564EZGET5LG45K4QEA</td>\n",
       "      <td>2016-12-05 03:32:10.000</td>\n",
       "      <td>0</td>\n",
       "      <td>False</td>\n",
       "    </tr>\n",
       "    <tr>\n",
       "      <th>701525</th>\n",
       "      <td>5</td>\n",
       "      <td>Great sunless tanner</td>\n",
       "      <td>Product as expected. Shipping was on time.</td>\n",
       "      <td>[]</td>\n",
       "      <td>B06ZZV9MZT</td>\n",
       "      <td>B06ZZV9MZT</td>\n",
       "      <td>AHYDCWDMMVMLBX7FY7M7JKADKRDQ</td>\n",
       "      <td>2020-05-27 02:52:54.067</td>\n",
       "      <td>0</td>\n",
       "      <td>True</td>\n",
       "    </tr>\n",
       "    <tr>\n",
       "      <th>701526</th>\n",
       "      <td>5</td>\n",
       "      <td>The Crown on top is a Ring!!!</td>\n",
       "      <td>Not only is it a delicious fragrance, but also...</td>\n",
       "      <td>[]</td>\n",
       "      <td>B000HB6VLE</td>\n",
       "      <td>B000HB6VLE</td>\n",
       "      <td>AF6ZIAEN7TQ2WY5ZL77F6JDPV7XQ</td>\n",
       "      <td>2007-07-18 22:36:49.000</td>\n",
       "      <td>4</td>\n",
       "      <td>False</td>\n",
       "    </tr>\n",
       "    <tr>\n",
       "      <th>701527</th>\n",
       "      <td>4</td>\n",
       "      <td>Good Shampoo/Conditioner</td>\n",
       "      <td>The conditioner doesn't really make your hair ...</td>\n",
       "      <td>[]</td>\n",
       "      <td>B0093MXHFG</td>\n",
       "      <td>B0093MXHFG</td>\n",
       "      <td>AGIYQU6RK6TBKBCMWKVPBPBMMJNA</td>\n",
       "      <td>2013-04-26 02:48:06.000</td>\n",
       "      <td>1</td>\n",
       "      <td>True</td>\n",
       "    </tr>\n",
       "  </tbody>\n",
       "</table>\n",
       "<p>701528 rows × 10 columns</p>\n",
       "</div>"
      ],
      "text/plain": [
       "        rating                                      title  \\\n",
       "0            5  Such a lovely scent but not overpowering.   \n",
       "1            4     Works great but smells a little weird.   \n",
       "2            5                                       Yes!   \n",
       "3            1                          Synthetic feeling   \n",
       "4            5                                         A+   \n",
       "...        ...                                        ...   \n",
       "701523       4                                 Four Stars   \n",
       "701524       1                                     Pretty   \n",
       "701525       5                       Great sunless tanner   \n",
       "701526       5              The Crown on top is a Ring!!!   \n",
       "701527       4                   Good Shampoo/Conditioner   \n",
       "\n",
       "                                                     text images        asin  \\\n",
       "0       This spray is really nice. It smells really go...     []  B00YQ6X8EO   \n",
       "1       This product does what I need it to do, I just...     []  B081TJ8YS3   \n",
       "2                               Smells good, feels great!     []  B07PNNCSP9   \n",
       "3                                          Felt synthetic     []  B09JS339BZ   \n",
       "4                                                 Love it     []  B08BZ63GMJ   \n",
       "...                                                   ...    ...         ...   \n",
       "701523    Conditioner is great  shampoo not as I expected     []  B006YUIWKA   \n",
       "701524  Did not work! Used the whole bottle and my hai...     []  B006YUIWKA   \n",
       "701525         Product as expected. Shipping was on time.     []  B06ZZV9MZT   \n",
       "701526  Not only is it a delicious fragrance, but also...     []  B000HB6VLE   \n",
       "701527  The conditioner doesn't really make your hair ...     []  B0093MXHFG   \n",
       "\n",
       "       parent_asin                       user_id               timestamp  \\\n",
       "0       B00YQ6X8EO  AGKHLEW2SOWHNMFQIJGBECAF7INQ 2020-05-05 14:08:48.923   \n",
       "1       B081TJ8YS3  AGKHLEW2SOWHNMFQIJGBECAF7INQ 2020-05-04 18:10:55.070   \n",
       "2       B097R46CSY  AE74DYR3QUGVPZJ3P7RFWBGIX7XQ 2020-05-16 21:41:06.052   \n",
       "3       B09JS339BZ  AFQLNQNQYFWQZPJQZS6V3NZU4QBQ 2022-01-28 18:13:50.220   \n",
       "4       B08BZ63GMJ  AFQLNQNQYFWQZPJQZS6V3NZU4QBQ 2020-12-30 10:02:43.534   \n",
       "...            ...                           ...                     ...   \n",
       "701523  B006YUIWKA  AFIXGFVEGLMOTMBTJL7H3VSIETDQ 2016-11-04 02:37:01.000   \n",
       "701524  B006YUIWKA  AFV7YZFOJF564EZGET5LG45K4QEA 2016-12-05 03:32:10.000   \n",
       "701525  B06ZZV9MZT  AHYDCWDMMVMLBX7FY7M7JKADKRDQ 2020-05-27 02:52:54.067   \n",
       "701526  B000HB6VLE  AF6ZIAEN7TQ2WY5ZL77F6JDPV7XQ 2007-07-18 22:36:49.000   \n",
       "701527  B0093MXHFG  AGIYQU6RK6TBKBCMWKVPBPBMMJNA 2013-04-26 02:48:06.000   \n",
       "\n",
       "        helpful_vote  verified_purchase  \n",
       "0                  0               True  \n",
       "1                  1               True  \n",
       "2                  2               True  \n",
       "3                  0               True  \n",
       "4                  0               True  \n",
       "...              ...                ...  \n",
       "701523             0               True  \n",
       "701524             0              False  \n",
       "701525             0               True  \n",
       "701526             4              False  \n",
       "701527             1               True  \n",
       "\n",
       "[701528 rows x 10 columns]"
      ]
     },
     "execution_count": 3,
     "metadata": {},
     "output_type": "execute_result"
    }
   ],
   "source": [
    "df"
   ]
  },
  {
   "cell_type": "code",
   "execution_count": 4,
   "id": "468517ac-6251-4145-844c-48ae47e733c1",
   "metadata": {},
   "outputs": [
    {
     "name": "stdout",
     "output_type": "stream",
     "text": [
      "<class 'pandas.core.frame.DataFrame'>\n",
      "RangeIndex: 701528 entries, 0 to 701527\n",
      "Data columns (total 10 columns):\n",
      " #   Column             Non-Null Count   Dtype         \n",
      "---  ------             --------------   -----         \n",
      " 0   rating             701528 non-null  int64         \n",
      " 1   title              701528 non-null  object        \n",
      " 2   text               701528 non-null  object        \n",
      " 3   images             701528 non-null  object        \n",
      " 4   asin               701528 non-null  object        \n",
      " 5   parent_asin        701528 non-null  object        \n",
      " 6   user_id            701528 non-null  object        \n",
      " 7   timestamp          701528 non-null  datetime64[ns]\n",
      " 8   helpful_vote       701528 non-null  int64         \n",
      " 9   verified_purchase  701528 non-null  bool          \n",
      "dtypes: bool(1), datetime64[ns](1), int64(2), object(6)\n",
      "memory usage: 48.8+ MB\n"
     ]
    }
   ],
   "source": [
    "df.info()"
   ]
  },
  {
   "cell_type": "code",
   "execution_count": 5,
   "id": "a8c2df35-abbf-47de-9bab-0228214cabb4",
   "metadata": {},
   "outputs": [
    {
     "data": {
      "text/plain": [
       "rating                        int64\n",
       "title                        object\n",
       "text                         object\n",
       "images                       object\n",
       "asin                         object\n",
       "parent_asin                  object\n",
       "user_id                      object\n",
       "timestamp            datetime64[ns]\n",
       "helpful_vote                  int64\n",
       "verified_purchase              bool\n",
       "dtype: object"
      ]
     },
     "execution_count": 5,
     "metadata": {},
     "output_type": "execute_result"
    }
   ],
   "source": [
    "df.dtypes"
   ]
  },
  {
   "cell_type": "code",
   "execution_count": 6,
   "id": "40ea6cd5-d9b3-4cd9-878d-7c9843977eb8",
   "metadata": {},
   "outputs": [
    {
     "data": {
      "text/html": [
       "<div>\n",
       "<style scoped>\n",
       "    .dataframe tbody tr th:only-of-type {\n",
       "        vertical-align: middle;\n",
       "    }\n",
       "\n",
       "    .dataframe tbody tr th {\n",
       "        vertical-align: top;\n",
       "    }\n",
       "\n",
       "    .dataframe thead th {\n",
       "        text-align: right;\n",
       "    }\n",
       "</style>\n",
       "<table border=\"1\" class=\"dataframe\">\n",
       "  <thead>\n",
       "    <tr style=\"text-align: right;\">\n",
       "      <th></th>\n",
       "      <th>rating</th>\n",
       "      <th>timestamp</th>\n",
       "      <th>helpful_vote</th>\n",
       "    </tr>\n",
       "  </thead>\n",
       "  <tbody>\n",
       "    <tr>\n",
       "      <th>count</th>\n",
       "      <td>701528.000000</td>\n",
       "      <td>701528</td>\n",
       "      <td>701528.000000</td>\n",
       "    </tr>\n",
       "    <tr>\n",
       "      <th>mean</th>\n",
       "      <td>3.960245</td>\n",
       "      <td>2019-04-09 03:31:48.115045888</td>\n",
       "      <td>0.923588</td>\n",
       "    </tr>\n",
       "    <tr>\n",
       "      <th>min</th>\n",
       "      <td>1.000000</td>\n",
       "      <td>2000-11-01 04:24:18</td>\n",
       "      <td>0.000000</td>\n",
       "    </tr>\n",
       "    <tr>\n",
       "      <th>25%</th>\n",
       "      <td>3.000000</td>\n",
       "      <td>2017-08-01 19:39:25.777499904</td>\n",
       "      <td>0.000000</td>\n",
       "    </tr>\n",
       "    <tr>\n",
       "      <th>50%</th>\n",
       "      <td>5.000000</td>\n",
       "      <td>2019-10-20 18:11:28.616499968</td>\n",
       "      <td>0.000000</td>\n",
       "    </tr>\n",
       "    <tr>\n",
       "      <th>75%</th>\n",
       "      <td>5.000000</td>\n",
       "      <td>2021-03-02 01:05:05.557999872</td>\n",
       "      <td>1.000000</td>\n",
       "    </tr>\n",
       "    <tr>\n",
       "      <th>max</th>\n",
       "      <td>5.000000</td>\n",
       "      <td>2023-09-09 00:39:36.666000</td>\n",
       "      <td>646.000000</td>\n",
       "    </tr>\n",
       "    <tr>\n",
       "      <th>std</th>\n",
       "      <td>1.494452</td>\n",
       "      <td>NaN</td>\n",
       "      <td>5.471391</td>\n",
       "    </tr>\n",
       "  </tbody>\n",
       "</table>\n",
       "</div>"
      ],
      "text/plain": [
       "              rating                      timestamp   helpful_vote\n",
       "count  701528.000000                         701528  701528.000000\n",
       "mean        3.960245  2019-04-09 03:31:48.115045888       0.923588\n",
       "min         1.000000            2000-11-01 04:24:18       0.000000\n",
       "25%         3.000000  2017-08-01 19:39:25.777499904       0.000000\n",
       "50%         5.000000  2019-10-20 18:11:28.616499968       0.000000\n",
       "75%         5.000000  2021-03-02 01:05:05.557999872       1.000000\n",
       "max         5.000000     2023-09-09 00:39:36.666000     646.000000\n",
       "std         1.494452                            NaN       5.471391"
      ]
     },
     "execution_count": 6,
     "metadata": {},
     "output_type": "execute_result"
    }
   ],
   "source": [
    "df.describe()\n"
   ]
  },
  {
   "cell_type": "code",
   "execution_count": 7,
   "id": "97498095-02db-4d0c-b972-890d7d7fc8b5",
   "metadata": {},
   "outputs": [
    {
     "data": {
      "text/plain": [
       "(701528, 10)"
      ]
     },
     "execution_count": 7,
     "metadata": {},
     "output_type": "execute_result"
    }
   ],
   "source": [
    "df.shape"
   ]
  },
  {
   "cell_type": "code",
   "execution_count": 8,
   "id": "a678a95c-3172-454b-b79a-c5de83340958",
   "metadata": {},
   "outputs": [
    {
     "data": {
      "text/plain": [
       "Index(['rating', 'title', 'text', 'images', 'asin', 'parent_asin', 'user_id',\n",
       "       'timestamp', 'helpful_vote', 'verified_purchase'],\n",
       "      dtype='object')"
      ]
     },
     "execution_count": 8,
     "metadata": {},
     "output_type": "execute_result"
    }
   ],
   "source": [
    "df.keys()"
   ]
  },
  {
   "cell_type": "code",
   "execution_count": 9,
   "id": "0b1b96a8-7740-42ac-827e-ea860c56f4e9",
   "metadata": {},
   "outputs": [
    {
     "data": {
      "text/plain": [
       "rating               0\n",
       "title                0\n",
       "text                 0\n",
       "images               0\n",
       "asin                 0\n",
       "parent_asin          0\n",
       "user_id              0\n",
       "timestamp            0\n",
       "helpful_vote         0\n",
       "verified_purchase    0\n",
       "dtype: int64"
      ]
     },
     "execution_count": 9,
     "metadata": {},
     "output_type": "execute_result"
    }
   ],
   "source": [
    "df.isna().sum()"
   ]
  },
  {
   "cell_type": "code",
   "execution_count": 10,
   "id": "d01bf939-46b4-4ab7-a6e0-fdf5eac16fd7",
   "metadata": {},
   "outputs": [],
   "source": [
    "df = df[df[\"verified_purchase\"] != False]\n",
    "df=df[[\"rating\",\"title\",\"text\",\"asin\",\"parent_asin\"]]"
   ]
  },
  {
   "cell_type": "code",
   "execution_count": 11,
   "id": "e3d3f892-90b3-4269-816a-b6cf4b5c5e14",
   "metadata": {},
   "outputs": [
    {
     "name": "stdout",
     "output_type": "stream",
     "text": [
      "title\n",
      "<class 'str'>    634969\n",
      "Name: count, dtype: int64\n",
      "text\n",
      "<class 'str'>    634969\n",
      "Name: count, dtype: int64\n"
     ]
    }
   ],
   "source": [
    "print(df[\"title\"].apply(type).value_counts())\n",
    "print(df[\"text\"].apply(type).value_counts())\n",
    "df[\"title\"] = df[\"title\"].astype(\"string\")\n",
    "df[\"text\"] = df[\"text\"].astype(\"string\")\n",
    "df[\"asin\"] = df[\"asin\"].astype(\"string\")\n",
    "df[\"parent_asin\"] = df[\"parent_asin\"].astype(\"string\")"
   ]
  },
  {
   "cell_type": "code",
   "execution_count": 12,
   "id": "4ea1afd5-38c9-4193-a230-7d4f4a8b42ae",
   "metadata": {},
   "outputs": [
    {
     "data": {
      "text/plain": [
       "rating                  int64\n",
       "title          string[python]\n",
       "text           string[python]\n",
       "asin           string[python]\n",
       "parent_asin    string[python]\n",
       "dtype: object"
      ]
     },
     "execution_count": 12,
     "metadata": {},
     "output_type": "execute_result"
    }
   ],
   "source": [
    "df.dtypes"
   ]
  },
  {
   "cell_type": "code",
   "execution_count": 13,
   "id": "475a5739-1e66-4b54-8a78-9bdfa71d8f4b",
   "metadata": {},
   "outputs": [
    {
     "name": "stdout",
     "output_type": "stream",
     "text": [
      "<class 'pandas.core.frame.DataFrame'>\n",
      "Index: 634969 entries, 0 to 701527\n",
      "Data columns (total 5 columns):\n",
      " #   Column       Non-Null Count   Dtype \n",
      "---  ------       --------------   ----- \n",
      " 0   rating       634969 non-null  int64 \n",
      " 1   title        634969 non-null  string\n",
      " 2   text         634969 non-null  string\n",
      " 3   asin         634969 non-null  string\n",
      " 4   parent_asin  634969 non-null  string\n",
      "dtypes: int64(1), string(4)\n",
      "memory usage: 29.1 MB\n"
     ]
    }
   ],
   "source": [
    "df.info()"
   ]
  },
  {
   "cell_type": "code",
   "execution_count": 14,
   "id": "7481ddd9",
   "metadata": {},
   "outputs": [
    {
     "data": {
      "text/html": [
       "<div>\n",
       "<style scoped>\n",
       "    .dataframe tbody tr th:only-of-type {\n",
       "        vertical-align: middle;\n",
       "    }\n",
       "\n",
       "    .dataframe tbody tr th {\n",
       "        vertical-align: top;\n",
       "    }\n",
       "\n",
       "    .dataframe thead th {\n",
       "        text-align: right;\n",
       "    }\n",
       "</style>\n",
       "<table border=\"1\" class=\"dataframe\">\n",
       "  <thead>\n",
       "    <tr style=\"text-align: right;\">\n",
       "      <th></th>\n",
       "      <th>rating</th>\n",
       "    </tr>\n",
       "  </thead>\n",
       "  <tbody>\n",
       "    <tr>\n",
       "      <th>count</th>\n",
       "      <td>634969.000000</td>\n",
       "    </tr>\n",
       "    <tr>\n",
       "      <th>mean</th>\n",
       "      <td>3.948166</td>\n",
       "    </tr>\n",
       "    <tr>\n",
       "      <th>std</th>\n",
       "      <td>1.505427</td>\n",
       "    </tr>\n",
       "    <tr>\n",
       "      <th>min</th>\n",
       "      <td>1.000000</td>\n",
       "    </tr>\n",
       "    <tr>\n",
       "      <th>25%</th>\n",
       "      <td>3.000000</td>\n",
       "    </tr>\n",
       "    <tr>\n",
       "      <th>50%</th>\n",
       "      <td>5.000000</td>\n",
       "    </tr>\n",
       "    <tr>\n",
       "      <th>75%</th>\n",
       "      <td>5.000000</td>\n",
       "    </tr>\n",
       "    <tr>\n",
       "      <th>max</th>\n",
       "      <td>5.000000</td>\n",
       "    </tr>\n",
       "  </tbody>\n",
       "</table>\n",
       "</div>"
      ],
      "text/plain": [
       "              rating\n",
       "count  634969.000000\n",
       "mean        3.948166\n",
       "std         1.505427\n",
       "min         1.000000\n",
       "25%         3.000000\n",
       "50%         5.000000\n",
       "75%         5.000000\n",
       "max         5.000000"
      ]
     },
     "execution_count": 14,
     "metadata": {},
     "output_type": "execute_result"
    }
   ],
   "source": [
    "\n",
    "df.describe()"
   ]
  },
  {
   "cell_type": "code",
   "execution_count": null,
   "id": "817f4b1b",
   "metadata": {},
   "outputs": [],
   "source": []
  },
  {
   "cell_type": "code",
   "execution_count": 16,
   "id": "1c85dd1e-b4b5-4bdb-a763-26feee5f64ce",
   "metadata": {},
   "outputs": [
    {
     "name": "stdout",
     "output_type": "stream",
     "text": [
      " B01AKTGHFW\n"
     ]
    },
    {
     "name": "stdout",
     "output_type": "stream",
     "text": [
      "it is not recommended to buy this product\n",
      "0.13801120343472315\n"
     ]
    }
   ],
   "source": [
    "# inp=\"B07PNNCSP9\" #positive\n",
    "#B01AKTGHFW # negative\n",
    "inp=input()\n",
    "if inp in df[\"asin\"].values:\n",
    "    text = df[df[\"asin\"] == inp][\"text\"]\n",
    "    combined_text = \" \".join(text)\n",
    "\n",
    "# Perform sentiment analysis using TextBlob\n",
    "    blob = TextBlob(combined_text)\n",
    "\n",
    "# Get the polarity and subjectivity\n",
    "    polarity = blob.sentiment.polarity  # Ranges from -1 (negative) to 1 (positive)\n",
    "\n",
    "# Print the results\n",
    "    if polarity>0.25:\n",
    "        print(\"it is recommended to buy this product\")\n",
    "    else:\n",
    "        print(\"it is not recommended to buy this product\")\n",
    "    #print(text)\n",
    "    print(polarity)\n",
    "    \n"
   ]
  },
  {
   "cell_type": "code",
   "execution_count": 17,
   "id": "cd075e55-200c-4f62-a239-7620ff380487",
   "metadata": {},
   "outputs": [
    {
     "name": "stdout",
     "output_type": "stream",
     "text": [
      "27        nothing special  unfortunately i waited too lo...\n",
      "7395      I like these. I'm not sure if they do anything...\n",
      "160433    It wasn't a as good as  other  brand I had rec...\n",
      "160437                           Shrunk after they get wet.\n",
      "160438    Just started using these, so far they leave my...\n",
      "160442        Doesn't seem to last as other Konica sponges.\n",
      "160443    Not scratchy at all - very smooth feeling and ...\n",
      "160445                                        Useless item!\n",
      "160447    Love these for my face and will buy more when ...\n",
      "160450    I really like these scrubs. They polish my fac...\n",
      "160451    Way too soft to do any cleaning. Just seems to...\n",
      "160454    I bought these for myself. I am in my early 50...\n",
      "160456      Helped with my husband black heads on his nose.\n",
      "160458    This works as expected but I would prefer they...\n",
      "160459    I had high hopes for this, but a few hours aft...\n",
      "Name: text, dtype: string\n"
     ]
    }
   ],
   "source": [
    "\n",
    "print(text)"
   ]
  },
  {
   "cell_type": "code",
   "execution_count": null,
   "id": "a092f798-1e38-4d42-a257-4b01162a52ff",
   "metadata": {},
   "outputs": [],
   "source": []
  },
  {
   "cell_type": "code",
   "execution_count": null,
   "id": "3cd289cc-567f-4b1a-b3a0-dd68bba44636",
   "metadata": {},
   "outputs": [],
   "source": []
  }
 ],
 "metadata": {
  "kernelspec": {
   "display_name": "Python 3 (ipykernel)",
   "language": "python",
   "name": "python3"
  },
  "language_info": {
   "codemirror_mode": {
    "name": "ipython",
    "version": 3
   },
   "file_extension": ".py",
   "mimetype": "text/x-python",
   "name": "python",
   "nbconvert_exporter": "python",
   "pygments_lexer": "ipython3",
   "version": "3.11.7"
  }
 },
 "nbformat": 4,
 "nbformat_minor": 5
}
